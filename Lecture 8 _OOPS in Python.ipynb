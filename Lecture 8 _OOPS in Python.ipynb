{
 "cells": [
  {
   "cell_type": "code",
   "execution_count": 8,
   "metadata": {},
   "outputs": [
    {
     "name": "stdout",
     "output_type": "stream",
     "text": [
      "add new students to database\n",
      "add new students to database\n",
      "Noor\n",
      "UMT\n",
      "UMT\n",
      "Noor\n"
     ]
    }
   ],
   "source": [
    "class Student:\n",
    "    college_name = \"UMT\"\n",
    "    name=\"anonymous\"\n",
    "    def __init__(self,name:str, marks:int)->None:\n",
    "        self.name=name\n",
    "        self.total=marks\n",
    "        print('add new students to database')\n",
    "    \n",
    "    def add_marks(self,m:int)->None:\n",
    "        '''Add marks'''\n",
    "        self.total+=m\n",
    "\n",
    "s1=Student('Furqan',90)\n",
    "\n",
    "s2=Student('Noor',69)\n",
    "\n",
    "\n",
    "print(s2.name)\n",
    "print(s2.college_name)\n",
    "print(Student.college_name)\n",
    "print(s2.name)\n",
    "    "
   ]
  },
  {
   "cell_type": "code",
   "execution_count": 15,
   "metadata": {},
   "outputs": [
    {
     "name": "stdout",
     "output_type": "stream",
     "text": [
      "30.0\n",
      "UMT College\n",
      "Lahore Johar town\n"
     ]
    }
   ],
   "source": [
    "class Student:\n",
    "\n",
    "    def __init__(self,name:str,subject_marks)->None:\n",
    "        ''' create object with name and marks of student for different subjects'''\n",
    "        self.name=name\n",
    "        self.subject_marks=subject_marks\n",
    "\n",
    "    def average(self):\n",
    "        return sum(self.subject_marks)/len(self.subject_marks)\n",
    "    \n",
    "    def add_subject_marks(self,marks):\n",
    "        self.subject_marks.append(marks)\n",
    "\n",
    "    # static methods are made at class level\n",
    "    # which means they are not used with objects so self keyword is not required.\n",
    "    # they are used as decorators\n",
    "\n",
    "    @staticmethod\n",
    "    def college():\n",
    "        print('UMT College')\n",
    "\n",
    "    @staticmethod\n",
    "    def college_location():\n",
    "        print('Lahore Johar town')\n",
    "\n",
    "s1=Student('Furqan',[10,20,30,40,50])\n",
    "\n",
    "\n",
    "print(s1.average())\n",
    "\n",
    "Student.college()\n",
    "\n",
    "Student.college_location()"
   ]
  },
  {
   "cell_type": "code",
   "execution_count": 18,
   "metadata": {},
   "outputs": [
    {
     "name": "stdout",
     "output_type": "stream",
     "text": [
      "Car started\n"
     ]
    }
   ],
   "source": [
    "# Encapsulation example\n",
    "\n",
    "class Car:\n",
    "    def __init__(self) -> None:\n",
    "        self.acc = False\n",
    "        self.brk = True\n",
    "        self.clutch =True\n",
    "    def start(self):\n",
    "        self.clutch=True\n",
    "        self.acc =True\n",
    "        print('Car started')\n",
    "\n",
    "\n",
    "car1=Car()\n",
    "car1.start()"
   ]
  },
  {
   "cell_type": "code",
   "execution_count": 19,
   "metadata": {},
   "outputs": [
    {
     "name": "stdout",
     "output_type": "stream",
     "text": [
      "account created with 101 and balance: 20\n",
      "Ammount added--> now balance is 10\n",
      "Balance for account # 101 is 10\n"
     ]
    }
   ],
   "source": [
    "class Account:\n",
    "    def __init__(self,balance,account_no) -> None:\n",
    "        self.balance=balance\n",
    "        self.acc=account_no\n",
    "        print(f\"account created with {self.acc} and balance: {self.balance}\")\n",
    "\n",
    "    def debit(self,amount):\n",
    "        '''Takes out the money from account'''\n",
    "        self.balance-=amount\n",
    "    \n",
    "    def credit(self,amount):\n",
    "        self.balance+-amount\n",
    "        print(f'Ammount added--> now balance is {self.balance}')\n",
    "    \n",
    "    def print_balance(self):\n",
    "        print(f'Balance for account # {self.acc} is {self.balance}')\n",
    "\n",
    "\n",
    "\n",
    "a1=Account(20,101)\n",
    "\n",
    "a1.debit(10)\n",
    "\n",
    "a1.credit(100)\n",
    "\n",
    "a1.print_balance()"
   ]
  },
  {
   "cell_type": "code",
   "execution_count": 22,
   "metadata": {},
   "outputs": [
    {
     "name": "stdout",
     "output_type": "stream",
     "text": [
      "acc # is 123 and private password is abc\n"
     ]
    },
    {
     "ename": "AttributeError",
     "evalue": "'Account' object has no attribute '__psw'",
     "output_type": "error",
     "traceback": [
      "\u001b[1;31m---------------------------------------------------------------------------\u001b[0m",
      "\u001b[1;31mAttributeError\u001b[0m                            Traceback (most recent call last)",
      "Cell \u001b[1;32mIn[22], line 14\u001b[0m\n\u001b[0;32m     12\u001b[0m a1\u001b[38;5;241m.\u001b[39mprint_info()\n\u001b[0;32m     13\u001b[0m \u001b[38;5;66;03m# if you try to access private variable u will get error\u001b[39;00m\n\u001b[1;32m---> 14\u001b[0m \u001b[43ma1\u001b[49m\u001b[38;5;241;43m.\u001b[39;49m\u001b[43m__psw\u001b[49m      \n",
      "\u001b[1;31mAttributeError\u001b[0m: 'Account' object has no attribute '__psw'"
     ]
    }
   ],
   "source": [
    "\n",
    "class Account:\n",
    "    def __init__(self,acc_no,acc_psw) -> None:\n",
    "        self.acc=acc_no\n",
    "        self.__psw=acc_psw\n",
    "    \n",
    "    def print_info(self):\n",
    "        print(f\"acc # is {self.acc} and private password is {self.__psw}\")\n",
    "\n",
    "\n",
    "a1=Account('123','abc')\n",
    "\n",
    "a1.print_info()\n",
    "# if you try to access private variable u will get error\n",
    "a1.__psw      "
   ]
  }
 ],
 "metadata": {
  "kernelspec": {
   "display_name": "Python 3",
   "language": "python",
   "name": "python3"
  },
  "language_info": {
   "codemirror_mode": {
    "name": "ipython",
    "version": 3
   },
   "file_extension": ".py",
   "mimetype": "text/x-python",
   "name": "python",
   "nbconvert_exporter": "python",
   "pygments_lexer": "ipython3",
   "version": "3.11.0"
  }
 },
 "nbformat": 4,
 "nbformat_minor": 2
}
