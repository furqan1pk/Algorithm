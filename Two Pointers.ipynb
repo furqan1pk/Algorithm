{
 "cells": [
  {
   "cell_type": "code",
   "execution_count": null,
   "id": "70785188-9b38-48db-b501-36e90bcbad32",
   "metadata": {},
   "outputs": [],
   "source": [
    "#Two Sum "
   ]
  },
  {
   "cell_type": "code",
   "execution_count": null,
   "id": "fd757e7e-1433-40f2-b655-a3bc287377bd",
   "metadata": {},
   "outputs": [],
   "source": [
    "class Solution:\n",
    "    def twoSum(self, numbers: List[int], target: int) -> List[int]:\n",
    "        if len(numbers)==0:\n",
    "            return []\n",
    "\n",
    "\n",
    "        i=0\n",
    "        j=len(numbers)-1\n",
    "        while (i<=len(numbers)-1):\n",
    "            if(numbers[i]+numbers[j]==target):\n",
    "                return [i+1]+[j+1]\n",
    "\n",
    "            if(numbers[i]+numbers[j]>target):\n",
    "                j=j-1\n",
    "            if(numbers[i]+numbers[j]<target):\n",
    "                i=i+1"
   ]
  },
  {
   "cell_type": "code",
   "execution_count": null,
   "id": "49e99411-973f-4133-bace-f6a93a57b4ea",
   "metadata": {},
   "outputs": [],
   "source": [
    "# palindrom"
   ]
  },
  {
   "cell_type": "code",
   "execution_count": null,
   "id": "8bf50ff1-a5e1-4a42-a5d8-40318a15693f",
   "metadata": {},
   "outputs": [],
   "source": [
    "class Solution:\n",
    "    def remove_non_alphanumeric(self,input_string):\n",
    "        return ''.join(char for char in input_string if char.isalnum())\n",
    "    def isPalindrome(self, s: str) -> bool:\n",
    "        if len(s)==1:\n",
    "            return True\n",
    "        if len(s)==0:\n",
    "            return True\n",
    "        \n",
    "        s=s.lower()\n",
    "        s=self.remove_non_alphanumeric(s)\n",
    "\n",
    "        j=len(s)-1\n",
    "        i=0\n",
    "        while i<j:  # how to handle even odd cases\n",
    "            #even odd length case\n",
    "            if s[i]!=s[j]:\n",
    "                #truecount\n",
    "                return False\n",
    "            i=i+1\n",
    "            j=j-1\n",
    "        return True\n"
   ]
  }
 ],
 "metadata": {
  "kernelspec": {
   "display_name": "Python 3 (ipykernel)",
   "language": "python",
   "name": "python3"
  },
  "language_info": {
   "codemirror_mode": {
    "name": "ipython",
    "version": 3
   },
   "file_extension": ".py",
   "mimetype": "text/x-python",
   "name": "python",
   "nbconvert_exporter": "python",
   "pygments_lexer": "ipython3",
   "version": "3.11.4"
  }
 },
 "nbformat": 4,
 "nbformat_minor": 5
}
