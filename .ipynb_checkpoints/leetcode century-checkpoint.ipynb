{
 "cells": [
  {
   "cell_type": "code",
   "execution_count": null,
   "id": "16079322-6844-4d9f-90da-6d68cd332880",
   "metadata": {},
   "outputs": [],
   "source": [
    "class Solution:\n",
    "    def containsNearbyDuplicate(self, nums: List[int], k: int) -> bool:\n",
    "\n",
    "        seen={}\n",
    "        for i in range(len(nums)):\n",
    "            if nums[i] not in seen.keys():\n",
    "                seen[nums[i]]=i\n",
    "            elif nums[i] in seen.keys():\n",
    "                if abs(seen[nums[i]]-i)<=k:\n",
    "                    return True\n",
    "                seen[nums[i]]=i\n",
    "            else:\n",
    "                print(i)\n",
    "                print(nums)\n",
    "        return False\n",
    "        "
   ]
  }
 ],
 "metadata": {
  "kernelspec": {
   "display_name": "Python 3 (ipykernel)",
   "language": "python",
   "name": "python3"
  },
  "language_info": {
   "codemirror_mode": {
    "name": "ipython",
    "version": 3
   },
   "file_extension": ".py",
   "mimetype": "text/x-python",
   "name": "python",
   "nbconvert_exporter": "python",
   "pygments_lexer": "ipython3",
   "version": "3.11.4"
  }
 },
 "nbformat": 4,
 "nbformat_minor": 5
}
