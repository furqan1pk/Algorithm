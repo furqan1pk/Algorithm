{
 "cells": [
  {
   "cell_type": "markdown",
   "id": "6dc8f28b-ab74-4b39-b503-c07ef7e7cf3c",
   "metadata": {},
   "source": [
    "Using hashmaps in python"
   ]
  },
  {
   "cell_type": "code",
   "execution_count": 3,
   "id": "f1bd5a39-4956-4eab-b04a-3f59ebb99784",
   "metadata": {},
   "outputs": [],
   "source": [
    "# Two methods for creating a hashmap\n",
    "\n",
    "# Method 1\n",
    "\n",
    "my_hashmap={}\n",
    "\n",
    "# Method2\n",
    "\n",
    "my_hashmap=dict()\n"
   ]
  },
  {
   "cell_type": "code",
   "execution_count": 5,
   "id": "28624325-2ec5-4541-a179-24330f06fb61",
   "metadata": {},
   "outputs": [],
   "source": [
    "# adding and retrieving values from hashmap\n",
    "\n",
    "my_hashmap['Key']='Value'\n",
    "\n",
    "my_hashmap['Name']='Furqan'\n",
    "\n",
    "my_hashmap['Age']=32"
   ]
  },
  {
   "cell_type": "code",
   "execution_count": 6,
   "id": "a5348afc-92cf-4e49-87ec-00ac2a985c98",
   "metadata": {},
   "outputs": [
    {
     "name": "stdout",
     "output_type": "stream",
     "text": [
      "Furqan\n",
      "32\n"
     ]
    }
   ],
   "source": [
    "# printing the values in the hashmap\n",
    "print(my_hashmap['Name'])\n",
    "print(my_hashmap['Age'])"
   ]
  },
  {
   "cell_type": "code",
   "execution_count": 8,
   "id": "7aad7cf5-9405-4ed1-b751-472114c9fb83",
   "metadata": {},
   "outputs": [
    {
     "name": "stdout",
     "output_type": "stream",
     "text": [
      "True\n",
      "False\n"
     ]
    }
   ],
   "source": [
    "# checking if key exists in the hashmap\n",
    "# it can be done using in keyword\n",
    "\n",
    "print('Name' in my_hashmap)\n",
    "\n",
    "print('Sex' in my_hashmap)"
   ]
  },
  {
   "cell_type": "code",
   "execution_count": 9,
   "id": "1b2ebb4a-f253-425d-a774-6ec04e8550e8",
   "metadata": {},
   "outputs": [],
   "source": [
    "#Update the hasmap ilke this\n",
    "\n",
    "my_hashmap['Age']=31"
   ]
  },
  {
   "cell_type": "code",
   "execution_count": 10,
   "id": "52e2b61e-e7f1-41a9-b49d-aa56ae4f8076",
   "metadata": {},
   "outputs": [],
   "source": [
    "# Delete the key value in hashmap llike this\n",
    "\n",
    "del my_hashmap['Key']"
   ]
  },
  {
   "cell_type": "code",
   "execution_count": 13,
   "id": "08511239-b34b-4017-93f8-91ac3be647d3",
   "metadata": {},
   "outputs": [
    {
     "name": "stdout",
     "output_type": "stream",
     "text": [
      "Name\n",
      "Age\n",
      "Furqan\n",
      "31\n"
     ]
    }
   ],
   "source": [
    "# iteratiing through the hashmap keys and valeus\n",
    "\n",
    "for key in my_hashmap.keys():\n",
    "    print(key)\n",
    "\n",
    "\n",
    "for value in my_hashmap.values():\n",
    "    print(value)\n",
    "\n",
    "# convertin it to a lsit\n",
    "\n",
    "my_list_hm_keys=list(my_hashmap.keys())\n"
   ]
  },
  {
   "cell_type": "code",
   "execution_count": 14,
   "id": "48070aa2-dc1d-4928-accb-46b809b5f091",
   "metadata": {},
   "outputs": [
    {
     "name": "stdout",
     "output_type": "stream",
     "text": [
      "{'a': 6, 'b': 7, 's': 3, 'h': 1, 'd': 1}\n",
      "b\n"
     ]
    }
   ],
   "source": [
    "# Question 1\n",
    "\n",
    "# most frequent characters in a string \n",
    "\n",
    "string='aabsbsabababbashbd'\n",
    "\n",
    "hm={}\n",
    "count=0\n",
    "max_occ=0\n",
    "max_char=string[0]\n",
    "for c in string:\n",
    "    if c in hm:\n",
    "        hm[c]+=1\n",
    "    else:\n",
    "        hm[c]=1\n",
    "    if hm[max_char]<hm[c]:\n",
    "        max_char=c\n",
    "\n",
    "# print the hashmap\n",
    "print(hm)\n",
    "\n",
    "# print the max character\n",
    "print(max_char)\n"
   ]
  },
  {
   "cell_type": "code",
   "execution_count": 15,
   "id": "72032121-648d-46ca-be4c-c0a771f46783",
   "metadata": {},
   "outputs": [
    {
     "name": "stdout",
     "output_type": "stream",
     "text": [
      "10\n",
      "8\n",
      "1\n",
      "3\n",
      "8\n",
      "4\n",
      "4\n"
     ]
    }
   ],
   "source": [
    "\n",
    "l1=[4,4,5,1,1,1,3,8,9,10]\n",
    "l2=[10,8,1,3,6,7,8,4,4]\n",
    "\n",
    "hm={}\n",
    "for x in l1:\n",
    "    if x not in hm:\n",
    "        hm[x]=True\n",
    "\n",
    "for y in l2:\n",
    "    if y in hm:\n",
    "        print(y)\n"
   ]
  }
 ],
 "metadata": {
  "kernelspec": {
   "display_name": "Python 3 (ipykernel)",
   "language": "python",
   "name": "python3"
  },
  "language_info": {
   "codemirror_mode": {
    "name": "ipython",
    "version": 3
   },
   "file_extension": ".py",
   "mimetype": "text/x-python",
   "name": "python",
   "nbconvert_exporter": "python",
   "pygments_lexer": "ipython3",
   "version": "3.11.4"
  }
 },
 "nbformat": 4,
 "nbformat_minor": 5
}
