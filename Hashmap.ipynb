{
 "cells": [
  {
   "cell_type": "markdown",
   "id": "6dc8f28b-ab74-4b39-b503-c07ef7e7cf3c",
   "metadata": {},
   "source": [
    "Using hashmaps in python"
   ]
  },
  {
   "cell_type": "code",
   "execution_count": 3,
   "id": "f1bd5a39-4956-4eab-b04a-3f59ebb99784",
   "metadata": {},
   "outputs": [],
   "source": [
    "# Two methods for creating a hashmap\n",
    "\n",
    "# Method 1\n",
    "\n",
    "my_hashmap={}\n",
    "\n",
    "# Method2\n",
    "\n",
    "my_hashmap=dict()\n"
   ]
  },
  {
   "cell_type": "code",
   "execution_count": 5,
   "id": "28624325-2ec5-4541-a179-24330f06fb61",
   "metadata": {},
   "outputs": [],
   "source": [
    "# adding and retrieving values from hashmap\n",
    "\n",
    "my_hashmap['Key']='Value'\n",
    "\n",
    "my_hashmap['Name']='Furqan'\n",
    "\n",
    "my_hashmap['Age']=32"
   ]
  },
  {
   "cell_type": "code",
   "execution_count": 6,
   "id": "a5348afc-92cf-4e49-87ec-00ac2a985c98",
   "metadata": {},
   "outputs": [
    {
     "name": "stdout",
     "output_type": "stream",
     "text": [
      "Furqan\n",
      "32\n"
     ]
    }
   ],
   "source": [
    "# printing the values in the hashmap\n",
    "print(my_hashmap['Name'])\n",
    "print(my_hashmap['Age'])"
   ]
  },
  {
   "cell_type": "code",
   "execution_count": 8,
   "id": "7aad7cf5-9405-4ed1-b751-472114c9fb83",
   "metadata": {},
   "outputs": [
    {
     "name": "stdout",
     "output_type": "stream",
     "text": [
      "True\n",
      "False\n"
     ]
    }
   ],
   "source": [
    "# checking if key exists in the hashmap\n",
    "# it can be done using in keyword\n",
    "\n",
    "print('Name' in my_hashmap)\n",
    "\n",
    "print('Sex' in my_hashmap)"
   ]
  },
  {
   "cell_type": "code",
   "execution_count": 9,
   "id": "1b2ebb4a-f253-425d-a774-6ec04e8550e8",
   "metadata": {},
   "outputs": [],
   "source": [
    "#Update the hasmap ilke this\n",
    "\n",
    "my_hashmap['Age']=31"
   ]
  },
  {
   "cell_type": "code",
   "execution_count": 10,
   "id": "52e2b61e-e7f1-41a9-b49d-aa56ae4f8076",
   "metadata": {},
   "outputs": [],
   "source": [
    "# Delete the key value in hashmap llike this\n",
    "\n",
    "del my_hashmap['Key']"
   ]
  },
  {
   "cell_type": "code",
   "execution_count": 13,
   "id": "08511239-b34b-4017-93f8-91ac3be647d3",
   "metadata": {},
   "outputs": [
    {
     "name": "stdout",
     "output_type": "stream",
     "text": [
      "Name\n",
      "Age\n",
      "Furqan\n",
      "31\n"
     ]
    }
   ],
   "source": [
    "# iteratiing through the hashmap keys and valeus\n",
    "\n",
    "for key in my_hashmap.keys():\n",
    "    print(key)\n",
    "\n",
    "\n",
    "for value in my_hashmap.values():\n",
    "    print(value)\n",
    "\n",
    "# convertin it to a lsit\n",
    "\n",
    "my_list_hm_keys=list(my_hashmap.keys())\n"
   ]
  },
  {
   "cell_type": "code",
   "execution_count": 14,
   "id": "48070aa2-dc1d-4928-accb-46b809b5f091",
   "metadata": {},
   "outputs": [
    {
     "name": "stdout",
     "output_type": "stream",
     "text": [
      "{'a': 6, 'b': 7, 's': 3, 'h': 1, 'd': 1}\n",
      "b\n"
     ]
    }
   ],
   "source": [
    "# Question 1\n",
    "\n",
    "# most frequent characters in a string \n",
    "\n",
    "string='aabsbsabababbashbd'\n",
    "\n",
    "hm={}\n",
    "count=0\n",
    "max_occ=0\n",
    "max_char=string[0]\n",
    "for c in string:\n",
    "    if c in hm:\n",
    "        hm[c]+=1\n",
    "    else:\n",
    "        hm[c]=1\n",
    "    if hm[max_char]<hm[c]:\n",
    "        max_char=c\n",
    "\n",
    "# print the hashmap\n",
    "print(hm)\n",
    "\n",
    "# print the max character\n",
    "print(max_char)\n"
   ]
  },
  {
   "cell_type": "code",
   "execution_count": 16,
   "id": "72032121-648d-46ca-be4c-c0a771f46783",
   "metadata": {},
   "outputs": [
    {
     "name": "stdout",
     "output_type": "stream",
     "text": [
      "10\n",
      "8\n",
      "1\n",
      "3\n",
      "4\n"
     ]
    }
   ],
   "source": [
    "\n",
    "l1=[4,4,5,1,1,1,3,8,9,10]\n",
    "l2=[10,8,1,3,6,7,8,4,4]\n",
    "\n",
    "hm={}\n",
    "for x in l1:\n",
    "    if x not in hm:\n",
    "        hm[x]=True\n",
    "\n",
    "for y in l2:\n",
    "    if y in hm:\n",
    "        print(y)\n",
    "        del hm[y]\n"
   ]
  },
  {
   "cell_type": "code",
   "execution_count": 22,
   "id": "c865ad72-8e80-4803-bbea-652dd1836162",
   "metadata": {},
   "outputs": [
    {
     "name": "stdout",
     "output_type": "stream",
     "text": [
      "10\n",
      "10\n",
      "8\n",
      "1\n",
      "3\n",
      "4\n",
      "4\n"
     ]
    }
   ],
   "source": [
    "# get common elements 2\n",
    "\n",
    "\n",
    "l1=[4,4,5,1,1,1,3,8,10,9,10]\n",
    "l2=[10,10,8,1,3,6,7,8,4,4]\n",
    "\n",
    "hm={}\n",
    "for x in l1:\n",
    "    if x in hm:\n",
    "        hm[x]+=1\n",
    "    else:\n",
    "        hm[x]=1\n",
    "\n",
    "for y in l2:\n",
    "    if y in hm:\n",
    "        if hm[y]>0:\n",
    "            print(y)\n",
    "            hm[y]-=1\n"
   ]
  },
  {
   "cell_type": "code",
   "execution_count": null,
   "id": "7b0ae68e-0dfa-4ddc-a8b6-2d086f01e810",
   "metadata": {},
   "outputs": [],
   "source": [
    "# find sequene of consecutive elements in a array\n",
    "\n"
   ]
  },
  {
   "cell_type": "code",
   "execution_count": 24,
   "id": "2e936f67-8d93-471d-9d9f-d7de22517be4",
   "metadata": {},
   "outputs": [
    {
     "data": {
      "text/plain": [
       "7"
      ]
     },
     "execution_count": 24,
     "metadata": {},
     "output_type": "execute_result"
    }
   ],
   "source": [
    "from typing import List\n",
    "\n",
    "class Solution:\n",
    "    def longestConsecutive(self, nums: List[int]) -> int:\n",
    "\n",
    "        nums_set=set(nums)\n",
    "        longest_sequence=0\n",
    "\n",
    "        for nums in nums_set:\n",
    "            if nums-1 not in nums_set:\n",
    "                current_num=nums\n",
    "                current_sequence=1\n",
    "\n",
    "                while current_num+1 in nums_set:\n",
    "                    current_sequence=current_sequence+1\n",
    "                    current_num+=1\n",
    "\n",
    "            longest_sequence = max(longest_sequence, current_sequence)\n",
    "        return longest_sequence\n",
    "\n",
    "\n",
    "l1=[1,2,3,4,5,6,213,11,13,12,14,15,16,17]\n",
    "\n",
    "x=Solution()\n",
    "x.longestConsecutive(l1)"
   ]
  },
  {
   "cell_type": "code",
   "execution_count": null,
   "id": "7ed6e79d-14b5-4106-a334-385bbefd47de",
   "metadata": {},
   "outputs": [],
   "source": [
    "class Solution:\n",
    "    def canConstruct(self, ransomNote: str, magazine: str) -> bool:\n",
    "\n",
    "        hm={}\n",
    "\n",
    "        for x in magazine:\n",
    "            if x in hm:\n",
    "                hm[x]+=1\n",
    "            else:\n",
    "                hm[x]=1\n",
    "        \n",
    "        for y in ransomNote:\n",
    "            if y in hm:\n",
    "                if hm[y]>1:\n",
    "                    hm[y]-=1\n",
    "                else:\n",
    "                    del hm[y]\n",
    "            else:\n",
    "                return False\n",
    "        \n",
    "        return True\n",
    "        "
   ]
  },
  {
   "cell_type": "code",
   "execution_count": 27,
   "id": "fa7bf0e5-4b02-470b-bea6-0e9be80e8851",
   "metadata": {},
   "outputs": [
    {
     "data": {
      "text/plain": [
       "{'a'}"
      ]
     },
     "execution_count": 27,
     "metadata": {},
     "output_type": "execute_result"
    }
   ],
   "source": [
    "ransomNote='aa'\n",
    "\n",
    "magazine='aab'\n",
    "#Example 3:\n",
    "\n",
    "ransomNote = \"aa\"\n",
    "magazine = \"aab\"\n",
    "#Output: true\n",
    "\n",
    "set(ransomNote)\n",
    "\n",
    "set(magazine)\n",
    "\n",
    "\n",
    "set(ransomNote)\n",
    "\n",
    "\n",
    "class Solution:\n",
    "    def canConstruct(self, ransomNote: str, magazine: str) -> bool:\n",
    "\n",
    "    for i in set(ransomNote):\n",
    "        if i not in magazine or ransomNote.count(i) > magazine.count(i):\n",
    "            return False\n",
    "        return True\n",
    "\n",
    "for letter in set(ransomNote):\n",
    "            if letter not in list(magazine) or ransomNote.count(letter) > magazine.count(letter):\n",
    "                return False\n",
    "\n",
    "        return True\n",
    "        "
   ]
  },
  {
   "cell_type": "code",
   "execution_count": null,
   "id": "fc86483a-d34e-4e0c-a6c3-dae3a81e9800",
   "metadata": {},
   "outputs": [],
   "source": [
    "#Learning Heap from geeksforggeeks acadmey"
   ]
  },
  {
   "cell_type": "markdown",
   "id": "b165832c-beb5-4d0e-8ec5-8521076f81e0",
   "metadata": {},
   "source": [
    "Heap data structure is mainly used to represent a priority queue. In Python, it is available using the “heapq” module. The property of this data structure in Python is that each time the smallest heap element is popped(min-heap). Whenever elements are pushed or popped, heap structure is maintained. The heap[0] element also returns the smallest element each time. Let’s see various Operations on the heap in Python."
   ]
  },
  {
   "cell_type": "code",
   "execution_count": 2,
   "id": "15afb0d0-18cd-4a6f-9f46-6775792726f5",
   "metadata": {},
   "outputs": [
    {
     "name": "stdout",
     "output_type": "stream",
     "text": [
      "The created heap is :  [1, 3, 9, 7, 5]\n"
     ]
    }
   ],
   "source": [
    "# importing \"heapq\" to implement heap queue\n",
    "import heapq\n",
    "\n",
    "# initializing list\n",
    "li = [5, 7, 9, 1, 3]\n",
    "\n",
    "# using heapify to convert list into heap\n",
    "heapq.heapify(li)\n",
    "\n",
    "# printing created heap\n",
    "print (\"The created heap is : \",(list(li)))\n"
   ]
  },
  {
   "cell_type": "code",
   "execution_count": 10,
   "id": "2941fed7-b841-4596-8337-da156e79ef39",
   "metadata": {},
   "outputs": [
    {
     "data": {
      "text/plain": [
       "[4, 7, 9]"
      ]
     },
     "execution_count": 10,
     "metadata": {},
     "output_type": "execute_result"
    }
   ],
   "source": [
    "li[2:]"
   ]
  },
  {
   "cell_type": "code",
   "execution_count": 16,
   "id": "c27e1b69-ca4e-47f5-b1cd-7be0ec4e9cb2",
   "metadata": {},
   "outputs": [
    {
     "data": {
      "text/plain": [
       "[6, 8, 9]"
      ]
     },
     "execution_count": 16,
     "metadata": {},
     "output_type": "execute_result"
    }
   ],
   "source": [
    "# find k largest element in  a array.\n",
    "\n",
    "li=[4,2,1,6,3,8,9]\n",
    "k=3\n",
    "heap=[]*k\n",
    "\n",
    "for i in range(len(li)):\n",
    "    if i <k:\n",
    "        heapq.heappush(heap,li[i])\n",
    "    else:\n",
    "        if li[i]> heap[0]:\n",
    "            heapq.heappop(heap)\n",
    "            heapq.heappush(heap,li[i])\n",
    "\n",
    "heap"
   ]
  },
  {
   "cell_type": "code",
   "execution_count": 7,
   "id": "3be05db1-8933-464b-ab6a-9ae44c855bc4",
   "metadata": {},
   "outputs": [
    {
     "name": "stdout",
     "output_type": "stream",
     "text": [
      "1\n",
      "2\n",
      "3\n",
      "4\n",
      "5\n",
      "6\n",
      "7\n",
      "8\n",
      "9\n"
     ]
    }
   ],
   "source": [
    "# k sorted array\n",
    "k=2\n",
    "li=[2,3,1,4,6,7,5,8,9]\n",
    "heap=[]\n",
    "i=0\n",
    "while i <=k:\n",
    "    heapq.heappush(heap,li[i])\n",
    "    i+=1\n",
    "i=k+1\n",
    "while i<len(li):\n",
    "    print(heapq.heappop(heap))\n",
    "    heapq.heappush(heap,li[i])\n",
    "    \n",
    "    i+=1\n",
    "while len(heap)>0:\n",
    "    print(heapq.heappop(heap))\n",
    "    \n",
    "\n"
   ]
  },
  {
   "cell_type": "code",
   "execution_count": 23,
   "id": "1d64d627-eb14-4689-bb0e-48f113d048b0",
   "metadata": {},
   "outputs": [
    {
     "name": "stdout",
     "output_type": "stream",
     "text": [
      "poped 3\n",
      "poped 5\n",
      "poped 5\n",
      "poped 6\n",
      "poped 7\n"
     ]
    }
   ],
   "source": [
    "nums=[1,3,-1,-3,5,3,6,7]\n",
    "k=3\n",
    "heap=[]\n",
    "li=nums\n",
    "i=0\n",
    "while i <=k:\n",
    "    heapq.heappush(heap,-li[i])\n",
    "    i+=1\n",
    "#print(heap)\n",
    "i=k+1\n",
    "while i<len(li):\n",
    "    curmax=-heapq.heappop(heap)\n",
    "    if li[i]==curmax:\n",
    "        print('poped '+str(curmax))\n",
    "    else:\n",
    "        print('poped '+str(curmax))\n",
    "        heapq.heappop(heap)\n",
    "        heapq.heappush(heap,-curmax)\n",
    "        \n",
    "        \n",
    "    #print(heap)\n",
    "   # print('pushed '+str(-li[i]))\n",
    "    heapq.heappush(heap,-li[i])\n",
    "    #print(heap)\n",
    "    \n",
    "    i+=1\n",
    "print('poped '+str(-heapq.heappop(heap)))"
   ]
  },
  {
   "cell_type": "code",
   "execution_count": null,
   "id": "63ef2398-18b4-4d7b-ab6a-1657d6de6e97",
   "metadata": {},
   "outputs": [],
   "source": []
  },
  {
   "cell_type": "code",
   "execution_count": 20,
   "id": "788b7612-183d-403d-b33c-e7d4ced5b117",
   "metadata": {},
   "outputs": [
    {
     "data": {
      "text/plain": [
       "[2, 3, 1, 1, 3, 2, 2, 3, 4, 6, 7, 5, 8, 9]"
      ]
     },
     "execution_count": 20,
     "metadata": {},
     "output_type": "execute_result"
    }
   ],
   "source": [
    "# k sorted array.\n",
    "#space O(k)\n",
    "k=3\n",
    "li=[2,3,1,4,6,7,5,8,9]\n",
    "heap=[]*k\n",
    "c=1\n",
    "for i in range(len(li)):\n",
    "    if i<k*c:\n",
    "        heapq.heappush(heap,li[i])\n",
    "    else:\n",
    "        li[i:k*c]=heap\n",
    "        # emtpy the heap\n",
    "        heap=[]*k\n",
    "        c=c+1\n",
    "\n",
    "li\n",
    "        \n",
    "        # if li[i]> heap[0]:\n",
    "        #     heapq.heappop(heap)\n",
    "        #     heapq.heappush(heap,li[i])\n",
    "        \n",
    "    \n",
    "    \n",
    "\n"
   ]
  },
  {
   "cell_type": "markdown",
   "id": "e641e8cb-8f40-4f50-83ec-9891a86c2ed3",
   "metadata": {},
   "source": [
    "Appending and Popping Items Efficiently\n",
    "heappush(heap, ele): This function is used to insert the element mentioned in its arguments into a heap. The order is adjusted, so that heap structure is maintained.\n",
    "heappop(heap): This function is used to remove and return the smallest element from the heap. The order is adjusted, so that heap structure is maintained."
   ]
  },
  {
   "cell_type": "code",
   "execution_count": 2,
   "id": "01c43a01-1df5-40b0-aec2-f15b383e8d12",
   "metadata": {},
   "outputs": [
    {
     "name": "stdout",
     "output_type": "stream",
     "text": [
      "The created heap is : [1, 3, 9, 7, 5]\n",
      "The modified heap after push is : [1, 3, 4, 7, 5, 9]\n",
      "The popped and smallest element is : 1\n"
     ]
    }
   ],
   "source": [
    "# importing \"heapq\" to implement heap queue\n",
    "import heapq\n",
    "\n",
    "# initializing list\n",
    "li = [5, 7, 9, 1, 3]\n",
    "\n",
    "# using heapify to convert list into heap\n",
    "heapq.heapify(li)\n",
    "\n",
    "# printing created heap\n",
    "print(\"The created heap is : \", end=\"\")\n",
    "print(list(li))\n",
    "\n",
    "# using heappush() to push elements into heap\n",
    "# pushes 4\n",
    "heapq.heappush(li, 4)\n",
    "\n",
    "# printing modified heap\n",
    "print(\"The modified heap after push is : \", end=\"\")\n",
    "print(list(li))\n",
    "\n",
    "# using heappop() to pop smallest element\n",
    "print(\"The popped and smallest element is : \", end=\"\")\n",
    "print(heapq.heappop(li))\n"
   ]
  },
  {
   "cell_type": "code",
   "execution_count": 3,
   "id": "de40ee15-f6bc-4a1a-8fd7-e3a538c6ce66",
   "metadata": {},
   "outputs": [
    {
     "name": "stdout",
     "output_type": "stream",
     "text": [
      "The popped item using heappushpop() is : 1\n",
      "The popped item using heapreplace() is : 3\n"
     ]
    }
   ],
   "source": [
    "# importing \"heapq\" to implement heap queue\n",
    "import heapq\n",
    "\n",
    "# initializing list 1\n",
    "li1 = [5, 1, 9, 4, 3]\n",
    "\n",
    "# initializing list 2\n",
    "li2 = [5, 7, 9, 4, 3]\n",
    "\n",
    "# using heapify() to convert list into heap\n",
    "heapq.heapify(li1)\n",
    "heapq.heapify(li2)\n",
    "\n",
    "# using heappushpop() to push and pop items simultaneously\n",
    "# pops 2\n",
    "print(\"The popped item using heappushpop() is : \", end=\"\")\n",
    "print(heapq.heappushpop(li1, 2))\n",
    "\n",
    "# using heapreplace() to push and pop items simultaneously\n",
    "# pops 3\n",
    "print(\"The popped item using heapreplace() is : \", end=\"\")\n",
    "print(heapq.heapreplace(li2, 2))\n"
   ]
  },
  {
   "cell_type": "code",
   "execution_count": 4,
   "id": "dfcfdad7-b11b-421a-91ae-7ca8d03ca9e4",
   "metadata": {},
   "outputs": [
    {
     "name": "stdout",
     "output_type": "stream",
     "text": [
      "The 3 largest numbers in list are : [10, 9, 8]\n",
      "The 3 smallest numbers in list are : [1, 3, 4]\n"
     ]
    }
   ],
   "source": [
    "# Python code to demonstrate working of\n",
    "# nlargest() and nsmallest()\n",
    "\n",
    "# importing \"heapq\" to implement heap queue\n",
    "import heapq\n",
    "\n",
    "# initializing list\n",
    "li1 = [6, 7, 9, 4, 3, 5, 8, 10, 1]\n",
    "\n",
    "# using heapify() to convert list into heap\n",
    "heapq.heapify(li1)\n",
    "\n",
    "# using nlargest to print 3 largest numbers\n",
    "# prints 10, 9 and 8\n",
    "print(\"The 3 largest numbers in list are : \", end=\"\")\n",
    "print(heapq.nlargest(3, li1))\n",
    "\n",
    "# using nsmallest to print 3 smallest numbers\n",
    "# prints 1, 3 and 4\n",
    "print(\"The 3 smallest numbers in list are : \", end=\"\")\n",
    "print(heapq.nsmallest(3, li1))\n"
   ]
  },
  {
   "cell_type": "code",
   "execution_count": 5,
   "id": "28531b37-c482-4a7f-84ba-d6fbb073c340",
   "metadata": {},
   "outputs": [
    {
     "name": "stdout",
     "output_type": "stream",
     "text": [
      "Heap: [1, 4, 2, 7, 5, 3]\n",
      "Heap after push: [1, 4, 2, 7, 5, 3, 6]\n",
      "Smallest element: 1\n",
      "Heap after pop: [2, 4, 3, 7, 5, 6]\n",
      "Smallest 3 elements: [2, 3, 4]\n",
      "Largest 2 elements: [7, 6]\n"
     ]
    }
   ],
   "source": [
    "import heapq\n",
    "\n",
    "# Initialize a list with some values\n",
    "values = [5, 1, 3, 7, 4, 2]\n",
    "\n",
    "# Convert the list into a heap\n",
    "heapq.heapify(values)\n",
    "\n",
    "# Print the heap\n",
    "print(\"Heap:\", values)\n",
    "\n",
    "# Add a new value to the heap\n",
    "heapq.heappush(values, 6)\n",
    "\n",
    "# Print the updated heap\n",
    "print(\"Heap after push:\", values)\n",
    "\n",
    "# Remove and return the smallest element from the heap\n",
    "smallest = heapq.heappop(values)\n",
    "\n",
    "# Print the smallest element and the updated heap\n",
    "print(\"Smallest element:\", smallest)\n",
    "print(\"Heap after pop:\", values)\n",
    "\n",
    "# Get the n smallest elements from the heap\n",
    "n_smallest = heapq.nsmallest(3, values)\n",
    "\n",
    "# Print the n smallest elements\n",
    "print(\"Smallest 3 elements:\", n_smallest)\n",
    "\n",
    "# Get the n largest elements from the heap\n",
    "n_largest = heapq.nlargest(2, values)\n",
    "\n",
    "# Print the n largest elements\n",
    "print(\"Largest 2 elements:\", n_largest)\n"
   ]
  },
  {
   "cell_type": "code",
   "execution_count": null,
   "id": "d7f762e3-0305-4b87-b9e8-68f0e65ada87",
   "metadata": {},
   "outputs": [],
   "source": []
  }
 ],
 "metadata": {
  "kernelspec": {
   "display_name": "Python 3 (ipykernel)",
   "language": "python",
   "name": "python3"
  },
  "language_info": {
   "codemirror_mode": {
    "name": "ipython",
    "version": 3
   },
   "file_extension": ".py",
   "mimetype": "text/x-python",
   "name": "python",
   "nbconvert_exporter": "python",
   "pygments_lexer": "ipython3",
   "version": "3.9.10"
  }
 },
 "nbformat": 4,
 "nbformat_minor": 5
}
