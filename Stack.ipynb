{
 "cells": [
  {
   "cell_type": "markdown",
   "id": "344d77c4-fc27-4ca2-bb9d-809498f96ceb",
   "metadata": {},
   "source": [
    "A stack is a linear data structure that stores items in a Last-In/First-Out (LIFO) or First-In/Last-Out (FILO) manner. In stack, a new element is added at one end and an element is removed from that end only. The insert and delete operations are often called push and pop."
   ]
  },
  {
   "cell_type": "markdown",
   "id": "90afc3a5-6dd4-4b24-89d0-0d04a3d831b9",
   "metadata": {},
   "source": [
    "The functions associated with stack are:\r\n",
    "\r\n",
    "empty() – Returns whether the stack is empty – Time Complexity: O(1)\r\n",
    "size() – Returns the size of the stack – Time Complexity: O(1)\r\n",
    "top() / peek() – Returns a reference to the topmost element of the stack – Time Complexity: O(1)\r\n",
    "push(a) – Inserts the element ‘a’ at the top of the stack – Time Complexity: O(1)\r\n",
    "pop() – Deletes the topmost element of the stack – Time Complexity: O(1)"
   ]
  },
  {
   "cell_type": "code",
   "execution_count": 1,
   "id": "68d3f941-6c72-4d79-9ece-94f62089c579",
   "metadata": {},
   "outputs": [
    {
     "name": "stdout",
     "output_type": "stream",
     "text": [
      "Initial stack\n",
      "['a', 'b', 'c']\n",
      "\n",
      "Elements popped from stack:\n",
      "c\n",
      "b\n",
      "a\n",
      "\n",
      "Stack after elements are popped:\n",
      "[]\n"
     ]
    }
   ],
   "source": [
    "# Python program to\n",
    "# demonstrate stack implementation\n",
    "# using list\n",
    "\n",
    "stack = []\n",
    "\n",
    "# append() function to push\n",
    "# element in the stack\n",
    "stack.append('a')\n",
    "stack.append('b')\n",
    "stack.append('c')\n",
    "\n",
    "print('Initial stack')\n",
    "print(stack)\n",
    "\n",
    "# pop() function to pop\n",
    "# element from stack in\n",
    "# LIFO order\n",
    "print('\\nElements popped from stack:')\n",
    "print(stack.pop())\n",
    "print(stack.pop())\n",
    "print(stack.pop())\n",
    "\n",
    "print('\\nStack after elements are popped:')\n",
    "print(stack)\n",
    "\n",
    "# uncommenting print(stack.pop())\n",
    "# will cause an IndexError\n",
    "# as the stack is now empty\n"
   ]
  },
  {
   "cell_type": "code",
   "execution_count": 23,
   "id": "4b44d5ec-ce66-4674-9472-2dd892b31944",
   "metadata": {},
   "outputs": [
    {
     "name": "stdout",
     "output_type": "stream",
     "text": [
      "True\n",
      "False\n"
     ]
    }
   ],
   "source": [
    "\n",
    "s='((a+b)+((c+d)))'\n",
    "stack = deque()\n",
    "\n",
    "for i in range(len(s)):\n",
    "    if s[i]==')':\n",
    "        if stack[-1] =='(':\n",
    "            print('True')\n",
    "            break\n",
    "            #return\n",
    "        else:\n",
    "            while stack[-1]!='(':\n",
    "                stack.pop()\n",
    "            stack.pop()\n",
    "    else:\n",
    "        stack.append(s[i])\n",
    "        # while s[i]!=')'\n",
    "        #     stack.append(s[i])\n",
    "print('False')\n",
    "\n"
   ]
  },
  {
   "cell_type": "markdown",
   "id": "ac5f01c5-bcb5-4ca6-b269-955ab7fb3245",
   "metadata": {},
   "source": [
    "Implementation using collections.deque:\n",
    "Python stack can be implemented using the deque class from the collections module. Deque is preferred over the list in the cases where we need quicker append and pop operations from both the ends of the container, as deque provides an O(1) time complexity for append and pop operations as compared to list which provides O(n) time complexity. "
   ]
  },
  {
   "cell_type": "code",
   "execution_count": 12,
   "id": "6f57ab09-5979-453e-8ce9-f7795ada7437",
   "metadata": {},
   "outputs": [
    {
     "name": "stdout",
     "output_type": "stream",
     "text": [
      "Initial stack:\n",
      "deque(['a', 'b', 'c'])\n",
      "\n",
      "Elements popped from stack:\n",
      "\n",
      "Stack after elements are popped:\n",
      "deque(['a', 'b', 'c'])\n"
     ]
    }
   ],
   "source": [
    "# Python program to\n",
    "# demonstrate stack implementation\n",
    "# using collections.deque\n",
    "\n",
    "from collections import deque\n",
    "\n",
    "stack = deque()\n",
    "\n",
    "# append() function to push\n",
    "# element in the stack\n",
    "stack.append('a')\n",
    "stack.append('b')\n",
    "stack.append('c')\n",
    "\n",
    "print('Initial stack:')\n",
    "print(stack)\n",
    "\n",
    "# pop() function to pop\n",
    "# element from stack in\n",
    "# LIFO order\n",
    "print('\\nElements popped from stack:')\n",
    "#print(stack.pop())\n",
    "#print(stack.pop())\n",
    "#print(stack.pop())\n",
    "\n",
    "print('\\nStack after elements are popped:')\n",
    "print(stack)\n",
    "\n",
    "# uncommenting print(stack.pop())\n",
    "# will cause an IndexError\n",
    "# as the stack is now empty\n"
   ]
  },
  {
   "cell_type": "code",
   "execution_count": 13,
   "id": "50053dc2-a863-45fa-b6c8-d82a307b796f",
   "metadata": {},
   "outputs": [
    {
     "name": "stdout",
     "output_type": "stream",
     "text": [
      "3\n"
     ]
    }
   ],
   "source": [
    "print(len(stack))"
   ]
  },
  {
   "cell_type": "code",
   "execution_count": 15,
   "id": "e66c86eb-9461-41b4-9cc4-fb4f7d2682b6",
   "metadata": {},
   "outputs": [
    {
     "data": {
      "text/plain": [
       "'b'"
      ]
     },
     "execution_count": 15,
     "metadata": {},
     "output_type": "execute_result"
    }
   ],
   "source": [
    "stack[1]"
   ]
  },
  {
   "cell_type": "code",
   "execution_count": null,
   "id": "f4ff0c25-6560-420f-b988-ada38b35167d",
   "metadata": {},
   "outputs": [],
   "source": []
  }
 ],
 "metadata": {
  "kernelspec": {
   "display_name": "Python 3 (ipykernel)",
   "language": "python",
   "name": "python3"
  },
  "language_info": {
   "codemirror_mode": {
    "name": "ipython",
    "version": 3
   },
   "file_extension": ".py",
   "mimetype": "text/x-python",
   "name": "python",
   "nbconvert_exporter": "python",
   "pygments_lexer": "ipython3",
   "version": "3.9.10"
  }
 },
 "nbformat": 4,
 "nbformat_minor": 5
}
