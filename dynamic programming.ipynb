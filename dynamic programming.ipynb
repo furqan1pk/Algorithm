{
 "cells": [
  {
   "cell_type": "code",
   "execution_count": null,
   "id": "58b39b93-f9a0-4872-83d9-f0a0a1aaabcb",
   "metadata": {},
   "outputs": [],
   "source": [
    "class Solution:\n",
    "    def minPathSum(self, grid: List[List[int]]) -> int:\n",
    "\n",
    "        num_rows = len(grid)\n",
    "        num_cols = len(grid[0]) if grid else 0\n",
    "        print(num_rows)\n",
    "        # Create a new matrix with the same size filled with zeros\n",
    "        dp = [[0] * num_cols for _ in range(num_rows)]\n",
    "\n",
    "        # minimum cost aye gi waha se destination tuk ki\n",
    "\n",
    "        for i in range(0,num_rows):\n",
    "            for j in range(0,num_cols):\n",
    "                if (i==0 and j==0):\n",
    "                    dp[i][j]=grid[i][j]\n",
    "                elif (j==0):\n",
    "                    dp[i][j]=grid[i][j]+dp[i-1][j]\n",
    "                elif (i==0):\n",
    "                    dp[i][j]=grid[i][j]+dp[i][j-1]\n",
    "                else:\n",
    "                    dp[i][j]=grid[i][j]+min(dp[i-1][j],dp[i][j-1])\n",
    "        return (dp[num_rows-1][num_cols-1])\n",
    "\n",
    "\n"
   ]
  },
  {
   "cell_type": "code",
   "execution_count": 18,
   "id": "1cc69a51-4ee2-4fb0-873f-4406d8d4148d",
   "metadata": {},
   "outputs": [
    {
     "ename": "TypeError",
     "evalue": "object of type 'function' has no len()",
     "output_type": "error",
     "traceback": [
      "\u001b[1;31m---------------------------------------------------------------------------\u001b[0m",
      "\u001b[1;31mTypeError\u001b[0m                                 Traceback (most recent call last)",
      "Cell \u001b[1;32mIn[18], line 36\u001b[0m\n\u001b[0;32m     30\u001b[0m     \u001b[38;5;66;03m# for i in range(0, num_rows):\u001b[39;00m\n\u001b[0;32m     31\u001b[0m     \u001b[38;5;66;03m#     maxvalue = max(maxvalue, dp[i][0])\u001b[39;00m\n\u001b[0;32m     34\u001b[0m     \u001b[38;5;28;01mreturn\u001b[39;00m maxvalue\n\u001b[1;32m---> 36\u001b[0m \u001b[43mmaze\u001b[49m\u001b[43m(\u001b[49m\u001b[43m)\u001b[49m\n",
      "Cell \u001b[1;32mIn[18], line 12\u001b[0m, in \u001b[0;36mmaze\u001b[1;34m()\u001b[0m\n\u001b[0;32m     11\u001b[0m \u001b[38;5;28;01mdef\u001b[39;00m \u001b[38;5;21mmaze\u001b[39m():\n\u001b[1;32m---> 12\u001b[0m     num_rows \u001b[38;5;241m=\u001b[39m \u001b[38;5;28;43mlen\u001b[39;49m\u001b[43m(\u001b[49m\u001b[43mmaze\u001b[49m\u001b[43m)\u001b[49m\n\u001b[0;32m     13\u001b[0m     num_cols \u001b[38;5;241m=\u001b[39m \u001b[38;5;28mlen\u001b[39m(maze[\u001b[38;5;241m0\u001b[39m]) \u001b[38;5;28;01mif\u001b[39;00m mine \u001b[38;5;28;01melse\u001b[39;00m \u001b[38;5;241m0\u001b[39m\n\u001b[0;32m     14\u001b[0m     dp \u001b[38;5;241m=\u001b[39m [[\u001b[38;5;241m0\u001b[39m] \u001b[38;5;241m*\u001b[39m num_cols \u001b[38;5;28;01mfor\u001b[39;00m _ \u001b[38;5;129;01min\u001b[39;00m \u001b[38;5;28mrange\u001b[39m(num_rows)]\n",
      "\u001b[1;31mTypeError\u001b[0m: object of type 'function' has no len()"
     ]
    }
   ],
   "source": [
    "maze = [\n",
    "    [0, 1, 4, 2, 8, 2],\n",
    "    [4, 3, 6, 5, 0, 4],\n",
    "    [1, 2, 4, 1, 4, 6],\n",
    "    [2, 0, 7, 3, 2, 2],\n",
    "    [3, 1, 5, 9, 2, 4],\n",
    "    [2, 7, 0, 8, 5, 1]\n",
    "]\n",
    "\n",
    "\n",
    "def maze():\n",
    "    num_rows = len(maze)\n",
    "    num_cols = len(maze[0]) if mine else 0\n",
    "    dp = [[0] * num_cols for _ in range(num_rows)]\n",
    "    maxvalue=0\n",
    "\n",
    "    for j in range(num_cols - 1, -1, -1):\n",
    "        for i in range(num_rows-1,-1,-1):\n",
    "            if(j==num_cols-1):\n",
    "                dp[i][j]=maze[i][j]\n",
    "            elif(i==0):\n",
    "                dp[i][j]=maze[i][j]+max(dp[i+1][j+1],dp[i][j+1]) \n",
    "            elif(i==num_rows-1):\n",
    "                dp[i][j]=maze[i][j]+max(dp[i-1][j+1],dp[i][j+1]) \n",
    "            else:\n",
    "                dp[i][j]=maze[i][j]+max(dp[i-1][j+1],dp[i][j+1],dp[i+1][j+1])\n",
    "            if(j==0):\n",
    "                maxvalue=max(maxvalue,dp[i][j])\n",
    "\n",
    "    # for i in range(0, num_rows):\n",
    "    #     maxvalue = max(maxvalue, dp[i][0])\n",
    "\n",
    "    \n",
    "    return maxvalue\n",
    "\n",
    "maze()\n",
    "    \n",
    "    "
   ]
  },
  {
   "cell_type": "code",
   "execution_count": null,
   "id": "8191150b-820c-404e-8549-ab337ed321ea",
   "metadata": {},
   "outputs": [],
   "source": []
  }
 ],
 "metadata": {
  "kernelspec": {
   "display_name": "Python 3 (ipykernel)",
   "language": "python",
   "name": "python3"
  },
  "language_info": {
   "codemirror_mode": {
    "name": "ipython",
    "version": 3
   },
   "file_extension": ".py",
   "mimetype": "text/x-python",
   "name": "python",
   "nbconvert_exporter": "python",
   "pygments_lexer": "ipython3",
   "version": "3.11.4"
  }
 },
 "nbformat": 4,
 "nbformat_minor": 5
}
