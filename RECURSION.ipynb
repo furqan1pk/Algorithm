{
 "cells": [
  {
   "cell_type": "code",
   "execution_count": 1,
   "id": "f8ab7c1a-b451-4e7c-9fe1-50a8b134490a",
   "metadata": {},
   "outputs": [],
   "source": [
    "#tOWER OF FURQIIIII"
   ]
  },
  {
   "cell_type": "code",
   "execution_count": null,
   "id": "0e35586d-579f-4241-9098-f063c742c2a9",
   "metadata": {},
   "outputs": [],
   "source": [
    "#MAKE A FUNCTION WHICH WILL PRINT INSTRUCTIONS FOR TRANSFERING THE LOAD FROM SOURCE TOWER TO DESTINATION USING A HELPER LIKE AIMAN..\n",
    "\n",
    "def rtoffurqi(s,d,h,n=3):\n",
    "    rtoffurqi(d,s,h,n-2)\n",
    "    "
   ]
  },
  {
   "cell_type": "code",
   "execution_count": null,
   "id": "6bef3da9-4a7a-4002-8633-a4ae2dc5fb6a",
   "metadata": {},
   "outputs": [],
   "source": [
    "expectation for n\n",
    "leap of faith  (n-1)\n",
    "and link expecatation with leap of faith\n",
    "think about the base case..\n",
    "\n",
    "use tree method to dry run.\n",
    "this pattern will be used in every question..\n"
   ]
  },
  {
   "cell_type": "code",
   "execution_count": 17,
   "id": "85533831-e764-4983-8b26-59a9f6891d0d",
   "metadata": {},
   "outputs": [
    {
     "name": "stdout",
     "output_type": "stream",
     "text": [
      "10\n",
      "20\n",
      "30\n",
      "40\n",
      "50\n"
     ]
    }
   ],
   "source": [
    "#display an array (recrusion)\n",
    "\n",
    "# array = 10,20,30,40,50\n",
    "# print this array.. using recursion..\n",
    "from typing import List\n",
    "nums=[10,20,30,40,50]\n",
    "index=0\n",
    "\n",
    "\n",
    "def displayarr(nums: List[int],index=0):\n",
    "    if index==len(nums):\n",
    "        return\n",
    "    print(nums[index])\n",
    "    displayarr(nums,index+1)\n",
    "displayarr(nums,index)    \n"
   ]
  },
  {
   "cell_type": "markdown",
   "id": "ae2054aa-f0af-469c-8750-45b805b4d269",
   "metadata": {},
   "source": [
    "Print Array in reverse order using recursion"
   ]
  },
  {
   "cell_type": "code",
   "execution_count": 19,
   "id": "cbca35e7-7f70-41f5-b65d-0dadd694875a",
   "metadata": {},
   "outputs": [
    {
     "name": "stdout",
     "output_type": "stream",
     "text": [
      "50\n",
      "40\n",
      "30\n",
      "20\n",
      "10\n"
     ]
    }
   ],
   "source": [
    "# display array in reverse order  \n",
    "# function call first will add items to the stack and print will be used later. this way array will be printed in reverse order.\n",
    "nums=[10,20,30,40,50]\n",
    "index=0\n",
    "def displayarr(nums: List[int],index=0):\n",
    "    if index==len(nums):\n",
    "        return\n",
    "\n",
    "    displayarr(nums,index+1)\n",
    "    print(nums[index])\n",
    "displayarr(nums,index) \n"
   ]
  },
  {
   "cell_type": "markdown",
   "id": "97cfc8f8-39ba-4614-8e9b-6b58d725b12c",
   "metadata": {},
   "source": [
    "Maximum of an array using recursion"
   ]
  },
  {
   "cell_type": "code",
   "execution_count": 26,
   "id": "90f9cb16-adde-4198-acf0-312b9c0a99a9",
   "metadata": {},
   "outputs": [
    {
     "data": {
      "text/plain": [
       "500"
      ]
     },
     "execution_count": 26,
     "metadata": {},
     "output_type": "execute_result"
    }
   ],
   "source": [
    "index=0\n",
    "nums=[500,20,30,40,50]\n",
    "def maxofarr(nums: List[int],index=0):\n",
    "    if index==(len(nums)-1):\n",
    "        return nums[index]\n",
    "    return max(nums[index],maxofarr(nums,index+1))\n",
    "maxofarr(nums,index) "
   ]
  },
  {
   "cell_type": "code",
   "execution_count": 39,
   "id": "e8afacb9-16c0-4bdc-887c-f6b7f6abf89b",
   "metadata": {},
   "outputs": [
    {
     "name": "stdout",
     "output_type": "stream",
     "text": [
      "3\n"
     ]
    }
   ],
   "source": [
    "#array \n",
    "nums=[2,3,9,8,7,6,4,12,7,3,8]\n",
    "\n",
    "#you are give number 8 and u need to print first occurence of the number. \n",
    "\n",
    "def firstoccurence(nums: List[int],i=0,x=8):\n",
    "    if(nums[i]==x):\n",
    "        return i\n",
    "    if i==len(nums)-1:\n",
    "        return (-1)\n",
    "\n",
    "    return firstoccurence(nums,i+1,x)\n",
    "    \n",
    "print(firstoccurence(nums,0,8))\n",
    "\n",
    "    "
   ]
  },
  {
   "cell_type": "code",
   "execution_count": 40,
   "id": "08929644-0c3d-4a60-acd7-e0ddc5551257",
   "metadata": {},
   "outputs": [
    {
     "name": "stdout",
     "output_type": "stream",
     "text": [
      "3\n"
     ]
    }
   ],
   "source": [
    "#array \n",
    "nums=[2,3,9,8,7,6,4,12,7,3,8]\n",
    "\n",
    "#you are give number 8 and u need to print first occurence of the number. \n",
    "\n",
    "def lastoccurence(nums: List[int],i=0,x=8):\n",
    "    \n",
    "    return lastoccurence(nums,i+1,x)\n",
    "    if(nums[i]==x):\n",
    "        return i\n",
    "    if i==len(nums)-1:\n",
    "        return (-1)\n",
    "    \n",
    "print(firstoccurence(nums,0,8))\n",
    "\n",
    "    "
   ]
  },
  {
   "cell_type": "code",
   "execution_count": 50,
   "id": "53695d62-fa14-4fb3-a975-8221aa652535",
   "metadata": {},
   "outputs": [
    {
     "name": "stdout",
     "output_type": "stream",
     "text": [
      "-1\n"
     ]
    }
   ],
   "source": [
    "#array \n",
    "nums=[2,3,9,8,7,6,4,12,7,3,8]\n",
    "\n",
    "#you are give number 8 and u need to print first occurence of the number. \n",
    "\n",
    "def lastoccurence(nums: List[int],i=0,x=8):\n",
    "    if i==len(nums):\n",
    "        return (-1)\n",
    "    var= lastoccurence(nums,i+1,x)\n",
    "    if var==-1:\n",
    "        if(nums[i]==x):\n",
    "            return i\n",
    "        else:\n",
    "            return -1\n",
    "    else:\n",
    "        return var\n",
    "    \n",
    "print(lastoccurence(nums,0,80))\n",
    "\n",
    "    "
   ]
  },
  {
   "cell_type": "code",
   "execution_count": 64,
   "id": "d607cf29-01a5-40ff-a78f-7dce5a08a067",
   "metadata": {},
   "outputs": [
    {
     "data": {
      "text/plain": [
       "[9, 1]"
      ]
     },
     "execution_count": 64,
     "metadata": {},
     "output_type": "execute_result"
    }
   ],
   "source": [
    "nums=[2,3,9,8,7,6,4,12,7,3,8]\n",
    "def alloccurences(nums: List[int],foundsofar: List[int],i=0,x=3,):\n",
    "    if i==len(nums):\n",
    "        return -1\n",
    "    \n",
    "    \n",
    "        \n",
    "    arr=alloccurences(nums,foundsofar,i+1,3)\n",
    "    if (x==nums[i]):\n",
    "        foundsofar.append(i)\n",
    "        return foundsofar\n",
    "    if arr==-1:\n",
    "        return []\n",
    "    else:\n",
    "        return arr\n",
    "\n",
    "alloccurences(nums,[],0,3)\n",
    "\n"
   ]
  },
  {
   "cell_type": "code",
   "execution_count": 62,
   "id": "70092d25-f2a6-4e5e-9972-0e83f7f715b1",
   "metadata": {},
   "outputs": [
    {
     "data": {
      "text/plain": [
       "[1]"
      ]
     },
     "execution_count": 62,
     "metadata": {},
     "output_type": "execute_result"
    }
   ],
   "source": [
    "nums=[2,3,9,8,7,6,4,12,7,3,8]\n",
    "def alloccurences(nums: List[int],foundsofar: List[int],i=0,x=3,):\n",
    "    if i==len(nums):\n",
    "        return []\n",
    "\n",
    "    \n",
    "    if (x==nums[i]):\n",
    "\n",
    "        return \n",
    "    \n",
    "    return alloccurences(nums,foundsofar,i+1,3)\n",
    "\n",
    "alloccurences(nums,[],0,3)"
   ]
  },
  {
   "cell_type": "code",
   "execution_count": null,
   "id": "a2afae34-f90c-4005-bc96-61f412af4acd",
   "metadata": {},
   "outputs": [],
   "source": [
    "Given an integer array nums of unique elements, return all possible \n",
    "subsets\n",
    " (the power set).\n",
    "\n",
    "The solution set must not contain duplicate subsets. Return the solution in any order.\n",
    "\n",
    " \n",
    "\n",
    "Example 1:\n",
    "\n",
    "Input: nums = [1,2,3]\n",
    "Output: [[],[1],[2],[1,2],[3],[1,3],[2,3],[1,2,3]]\n",
    "Example 2:\n",
    "\n",
    "Input: nums = [0]\n",
    "Output: [[],[0]]"
   ]
  },
  {
   "cell_type": "code",
   "execution_count": 95,
   "id": "ce23d53e-d44a-42b9-aabe-ad35ab1f7c5e",
   "metadata": {},
   "outputs": [
    {
     "name": "stdout",
     "output_type": "stream",
     "text": [
      "[[]]\n",
      "[[], [1]]\n",
      "[[], [1], [2], [2, 1]]\n"
     ]
    },
    {
     "data": {
      "text/plain": [
       "[[], [1], [2], [2, 1], [3], [3, 1], [3, 2], [3, 2, 1]]"
      ]
     },
     "execution_count": 95,
     "metadata": {},
     "output_type": "execute_result"
    }
   ],
   "source": [
    "\n",
    "nums = [3,2,1]\n",
    "def subsets(nums: List[int]) -> List[List[int]]:\n",
    "    if (len(nums))==0:\n",
    "        return [[]]\n",
    "    \n",
    "    first=nums[0]\n",
    "\n",
    "    arr=nums[1:]\n",
    "    #print(arr)\n",
    "    list_subsets=subsets(arr)\n",
    "    print(list_subsets)\n",
    "    #print(list_subsets)\n",
    "    new_list=[]\n",
    "    new_list=list_subsets.copy()\n",
    "    #print(new_list)\n",
    "\n",
    "    for n in list_subsets:\n",
    "\n",
    "        new_list.append([first] + n)\n",
    "\n",
    "    return new_list\n",
    "    # for n in list_subsets:\n",
    "    #     print(n)\n",
    "    #     new_list.append(n)\n",
    "    #     n.append(first)\n",
    "    #     new_list.append(n)\n",
    "    #     # print(n)\n",
    "        \n",
    "    #     # print(new_list)\n",
    "    #     # new_list.append(n)\n",
    "    #     print(new_list)\n",
    "    #     #print(new_list)\n",
    "    #     #print(new_list)\n",
    "    return new_list\n",
    "\n",
    "subsets(nums)"
   ]
  },
  {
   "cell_type": "code",
   "execution_count": 106,
   "id": "59807193-435e-4230-b752-41ced7c76404",
   "metadata": {},
   "outputs": [
    {
     "name": "stdout",
     "output_type": "stream",
     "text": [
      "\n",
      "c\n",
      "b\n",
      "bc\n",
      "a\n",
      "ac\n",
      "ab\n",
      "abc\n"
     ]
    }
   ],
   "source": [
    "#i want to print all the sequences of abc\n",
    "s=\"abc\"\n",
    "def subsets(s,answerssofar):\n",
    "    if len(s)==0:\n",
    "        print(answerssofar)\n",
    "        return\n",
    "    first=s[0]\n",
    "    subsets(s[1:],answerssofar)\n",
    "    subsets(s[1:],answerssofar+first)\n",
    "\n",
    "subsets(s,\"\")\n",
    "    "
   ]
  },
  {
   "cell_type": "code",
   "execution_count": 110,
   "id": "96824c52-b208-4eb9-bed5-8de012701f7b",
   "metadata": {},
   "outputs": [
    {
     "ename": "TypeError",
     "evalue": "'dict' object is not callable",
     "output_type": "error",
     "traceback": [
      "\u001b[1;31m---------------------------------------------------------------------------\u001b[0m",
      "\u001b[1;31mTypeError\u001b[0m                                 Traceback (most recent call last)",
      "Cell \u001b[1;32mIn[110], line 26\u001b[0m\n\u001b[0;32m     23\u001b[0m     \u001b[38;5;28;01mreturn\u001b[39;00m newlist\n\u001b[0;32m     25\u001b[0m digits\u001b[38;5;241m=\u001b[39m\u001b[38;5;124m'\u001b[39m\u001b[38;5;124m23\u001b[39m\u001b[38;5;124m'\u001b[39m\n\u001b[1;32m---> 26\u001b[0m \u001b[43mletterCombinations\u001b[49m\u001b[43m(\u001b[49m\u001b[43mdigits\u001b[49m\u001b[43m)\u001b[49m\n",
      "Cell \u001b[1;32mIn[110], line 17\u001b[0m, in \u001b[0;36mletterCombinations\u001b[1;34m(digits)\u001b[0m\n\u001b[0;32m     15\u001b[0m     \u001b[38;5;28;01mreturn\u001b[39;00m [[]]\n\u001b[0;32m     16\u001b[0m firstletter\u001b[38;5;241m=\u001b[39mdigits[\u001b[38;5;241m0\u001b[39m]\n\u001b[1;32m---> 17\u001b[0m \u001b[43mdigit_to_letters\u001b[49m\u001b[43m(\u001b[49m\u001b[38;5;241;43m2\u001b[39;49m\u001b[43m)\u001b[49m\n\u001b[0;32m     18\u001b[0m los\u001b[38;5;241m=\u001b[39mletterCombinations(digits[\u001b[38;5;241m1\u001b[39m:])\n\u001b[0;32m     19\u001b[0m newlist\u001b[38;5;241m=\u001b[39mlos\u001b[38;5;241m.\u001b[39mcopy()\n",
      "\u001b[1;31mTypeError\u001b[0m: 'dict' object is not callable"
     ]
    }
   ],
   "source": [
    "digit_to_letters = {\n",
    "    '2': 'abc',\n",
    "    '3': 'def',\n",
    "    '4': 'ghi',\n",
    "    '5': 'jkl',\n",
    "    '6': 'mno',\n",
    "    '7': 'pqrs',\n",
    "    '8': 'tuv',\n",
    "    '9': 'wxyz'\n",
    "}\n",
    "    \n",
    "def letterCombinations(digits: str) -> List[str]:\n",
    "    # no key press\n",
    "    if len(digits)==0:\n",
    "        return [[]]\n",
    "    firstletter=digits[0]\n",
    "    digit_to_letters(2)\n",
    "    los=letterCombinations(digits[1:])\n",
    "    newlist=los.copy()\n",
    "    for k in firstletter:\n",
    "        for x in los:\n",
    "            newlist.append([k]+x)\n",
    "    return newlist\n",
    "\n",
    "digits='23'\n",
    "letterCombinations(digits)"
   ]
  },
  {
   "cell_type": "code",
   "execution_count": 113,
   "id": "980d6d56-a27b-4e62-824a-700f4cbe5a76",
   "metadata": {},
   "outputs": [
    {
     "name": "stdout",
     "output_type": "stream",
     "text": [
      "abc\n"
     ]
    }
   ],
   "source": [
    "digit_to_letters = {\n",
    "    '2': 'abc',\n",
    "    '3': 'def',\n",
    "    '4': 'ghi',\n",
    "    '5': 'jkl',\n",
    "    '6': 'mno',\n",
    "    '7': 'pqrs',\n",
    "    '8': 'tuv',\n",
    "    '9': 'wxyz'\n",
    "    }\n",
    "letters_for_digit_2 = digit_to_letters['2']\n",
    "print(letters_for_digit_2)\n"
   ]
  }
 ],
 "metadata": {
  "kernelspec": {
   "display_name": "Python 3 (ipykernel)",
   "language": "python",
   "name": "python3"
  },
  "language_info": {
   "codemirror_mode": {
    "name": "ipython",
    "version": 3
   },
   "file_extension": ".py",
   "mimetype": "text/x-python",
   "name": "python",
   "nbconvert_exporter": "python",
   "pygments_lexer": "ipython3",
   "version": "3.11.4"
  }
 },
 "nbformat": 4,
 "nbformat_minor": 5
}
